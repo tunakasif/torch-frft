{
 "cells": [
  {
   "cell_type": "code",
   "execution_count": 1,
   "metadata": {},
   "outputs": [],
   "source": [
    "import torch\n",
    "import torch.nn as nn\n",
    "\n",
    "from torch_frft.frft_module import frft\n",
    "from torch_frft.dfrft_module import dfrft\n",
    "from torch_frft.layer import DFrFTLayer, FrFTLayer"
   ]
  },
  {
   "cell_type": "code",
   "execution_count": 2,
   "metadata": {},
   "outputs": [
    {
     "name": "stdout",
     "output_type": "stream",
     "text": [
      "Epoch [0/1000], Loss: 59.5393\n",
      "Epoch [100/1000], Loss: 30.9991\n",
      "Epoch [200/1000], Loss: 0.1275\n",
      "Epoch [300/1000], Loss: 0.0764\n",
      "Epoch [400/1000], Loss: 0.0969\n",
      "Epoch [500/1000], Loss: 0.0780\n",
      "Epoch [600/1000], Loss: 0.0846\n",
      "Epoch [700/1000], Loss: 0.0837\n",
      "Epoch [800/1000], Loss: 0.0748\n",
      "Epoch [900/1000], Loss: 0.0898\n",
      "Epoch [1000/1000], Loss: 0.0663\n",
      "Original  a: tensor(1.4500)\n",
      "Estimated a: Parameter containing:\n",
      "tensor(1.4498, requires_grad=True)\n"
     ]
    }
   ],
   "source": [
    "num_samples = 100\n",
    "seq_length = 16\n",
    "a_original = torch.tensor(1.45, dtype=torch.float32)\n",
    "X = torch.randn(num_samples, seq_length, dtype=torch.float32)\n",
    "Y = frft(X, a_original)\n",
    "\n",
    "model = nn.Sequential(FrFTLayer(order=1.25))\n",
    "optim = torch.optim.Adam(model.parameters(), lr=1e-3)\n",
    "epochs = 1000\n",
    "\n",
    "for epoch in range(1 + epochs):\n",
    "    optim.zero_grad()\n",
    "    loss = torch.norm(Y - model(X))\n",
    "    loss.backward()\n",
    "    optim.step()\n",
    "\n",
    "    if epoch % 100 == 0:\n",
    "        print(f\"Epoch [{epoch}/{epochs}], Loss: {loss.item():.4f}\")\n",
    "\n",
    "print(\"Original  a:\", a_original)\n",
    "print(\"Estimated a:\", model[0].order)"
   ]
  },
  {
   "cell_type": "code",
   "execution_count": 3,
   "metadata": {},
   "outputs": [
    {
     "name": "stdout",
     "output_type": "stream",
     "text": [
      "Epoch [0/1000], Loss: 60.2955\n",
      "Epoch [100/1000], Loss: 14.5485\n",
      "Epoch [200/1000], Loss: 0.2127\n",
      "Epoch [300/1000], Loss: 0.1997\n",
      "Epoch [400/1000], Loss: 0.1942\n",
      "Epoch [500/1000], Loss: 0.1913\n",
      "Epoch [600/1000], Loss: 0.1895\n",
      "Epoch [700/1000], Loss: 0.1882\n",
      "Epoch [800/1000], Loss: 0.1872\n",
      "Epoch [900/1000], Loss: 0.1866\n",
      "Epoch [1000/1000], Loss: 0.1861\n",
      "Original  a: tensor(1.1000)\n",
      "Estimated a: Parameter containing:\n",
      "tensor(1.1003, requires_grad=True)\n"
     ]
    }
   ],
   "source": [
    "num_samples = 100\n",
    "seq_length = 16\n",
    "a_original = torch.tensor(1.1, dtype=torch.float32)\n",
    "X = torch.randn(num_samples, seq_length, dtype=torch.float32)\n",
    "Y = dfrft(X, a_original, dim=-1)\n",
    "\n",
    "model = nn.Sequential(DFrFTLayer(order=1.25, dim=-1))\n",
    "optim = torch.optim.Adam(model.parameters(), lr=1e-3)\n",
    "epochs = 1000\n",
    "\n",
    "for epoch in range(1 + epochs):\n",
    "    optim.zero_grad()\n",
    "    loss = torch.norm(Y - model(X))\n",
    "    loss.backward()\n",
    "    optim.step()\n",
    "\n",
    "    if epoch % 100 == 0:\n",
    "        print(f\"Epoch [{epoch}/{epochs}], Loss: {loss.item():.4f}\")\n",
    "\n",
    "print(\"Original  a:\", a_original)\n",
    "print(\"Estimated a:\", model[0].order)"
   ]
  }
 ],
 "metadata": {
  "kernelspec": {
   "display_name": ".venv",
   "language": "python",
   "name": "python3"
  },
  "language_info": {
   "codemirror_mode": {
    "name": "ipython",
    "version": 3
   },
   "file_extension": ".py",
   "mimetype": "text/x-python",
   "name": "python",
   "nbconvert_exporter": "python",
   "pygments_lexer": "ipython3",
   "version": "3.11.4"
  },
  "orig_nbformat": 4
 },
 "nbformat": 4,
 "nbformat_minor": 2
}
