{
 "cells": [
  {
   "cell_type": "code",
   "execution_count": 1,
   "metadata": {},
   "outputs": [],
   "source": [
    "import torch\n",
    "import torch.nn as nn\n",
    "\n",
    "from torch_frft.dfrft_module import dfrft\n",
    "from torch_frft.frft_module import frft\n",
    "from torch_frft.layer import DFrFTLayer, FrFTLayer"
   ]
  },
  {
   "cell_type": "code",
   "execution_count": 2,
   "metadata": {},
   "outputs": [],
   "source": [
    "device = torch.device(\"cuda\" if torch.cuda.is_available() else \"cpu\")"
   ]
  },
  {
   "cell_type": "code",
   "execution_count": 3,
   "metadata": {},
   "outputs": [],
   "source": [
    "def train(model, optimizer, data, target, epochs=1000):\n",
    "    global a_original\n",
    "    for epoch in range(epochs):\n",
    "        optimizer.zero_grad()\n",
    "        loss = torch.norm(target - model(data))\n",
    "        loss.backward()\n",
    "        optimizer.step()\n",
    "\n",
    "        if epoch % 100 == 0:\n",
    "            print(f\"Epoch [{epoch}/{epochs}], Loss: {loss.item():.4f}\")\n",
    "    print(\"Original  a:\", a_original)\n",
    "    print(\"Estimated a:\", model[0].order)"
   ]
  },
  {
   "cell_type": "code",
   "execution_count": 4,
   "metadata": {},
   "outputs": [],
   "source": [
    "num_samples, seq_length = 100, 16\n",
    "a_original = torch.tensor(1.45, dtype=torch.float32)\n",
    "a_initial = 1.35\n",
    "lr = 1e-2\n",
    "epochs = 500\n",
    "X = torch.randn(num_samples, seq_length, dtype=torch.float32, device=device)"
   ]
  },
  {
   "cell_type": "code",
   "execution_count": 5,
   "metadata": {},
   "outputs": [
    {
     "name": "stdout",
     "output_type": "stream",
     "text": [
      "Epoch [0/500], Loss: 44.8892\n",
      "Epoch [100/500], Loss: 0.0000\n",
      "Epoch [200/500], Loss: 0.0000\n",
      "Epoch [300/500], Loss: 0.0000\n",
      "Epoch [400/500], Loss: 0.0000\n",
      "Original  a: tensor(1.4500)\n",
      "Estimated a: Parameter containing:\n",
      "tensor(1.4500, device='cuda:0', requires_grad=True)\n"
     ]
    }
   ],
   "source": [
    "Y = frft(X, a_original)\n",
    "model = nn.Sequential(FrFTLayer(order=a_initial)).to(device)\n",
    "train(\n",
    "    model=model,\n",
    "    optimizer=torch.optim.Adagrad(model.parameters(), lr=lr),\n",
    "    data=X,\n",
    "    target=Y,\n",
    "    epochs=epochs,\n",
    ")"
   ]
  },
  {
   "cell_type": "code",
   "execution_count": 6,
   "metadata": {},
   "outputs": [
    {
     "name": "stdout",
     "output_type": "stream",
     "text": [
      "Epoch [0/500], Loss: 48.9082\n",
      "Epoch [100/500], Loss: 1.3701\n",
      "Epoch [200/500], Loss: 1.4373\n",
      "Epoch [300/500], Loss: 0.7099\n",
      "Epoch [400/500], Loss: 0.5322\n",
      "Original  a: tensor(1.4500)\n",
      "Estimated a: Parameter containing:\n",
      "tensor(1.4514, device='cuda:0', requires_grad=True)\n"
     ]
    }
   ],
   "source": [
    "Y = dfrft(X, a_original)\n",
    "model = nn.Sequential(DFrFTLayer(order=a_initial)).to(device)\n",
    "train(\n",
    "    model=model,\n",
    "    optimizer=torch.optim.Adam(model.parameters(), lr=lr),\n",
    "    data=X,\n",
    "    target=Y,\n",
    "    epochs=epochs,\n",
    ")"
   ]
  }
 ],
 "metadata": {
  "kernelspec": {
   "display_name": ".venv",
   "language": "python",
   "name": "python3"
  },
  "language_info": {
   "codemirror_mode": {
    "name": "ipython",
    "version": 3
   },
   "file_extension": ".py",
   "mimetype": "text/x-python",
   "name": "python",
   "nbconvert_exporter": "python",
   "pygments_lexer": "ipython3",
   "version": "3.11.4"
  },
  "orig_nbformat": 4
 },
 "nbformat": 4,
 "nbformat_minor": 2
}
