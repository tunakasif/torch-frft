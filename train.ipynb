{
 "cells": [
  {
   "cell_type": "code",
   "execution_count": null,
   "metadata": {},
   "outputs": [],
   "source": [
    "import torch\n",
    "import torch.nn as nn\n",
    "\n",
    "from trainable_frft.fracf_torch import fracF"
   ]
  },
  {
   "cell_type": "code",
   "execution_count": null,
   "metadata": {},
   "outputs": [],
   "source": [
    "seq_len = 10\n",
    "num_sample = 10\n",
    "X = torch.sin(torch.randn(num_sample, seq_len)) + torch.randn(num_sample, seq_len)\n",
    "a_original = torch.tensor(0.65)\n",
    "Y = fracF(X, a_original) + 0.01 * torch.randn(num_sample, seq_len)"
   ]
  },
  {
   "cell_type": "code",
   "execution_count": null,
   "metadata": {},
   "outputs": [],
   "source": [
    "a = nn.Parameter(torch.tensor(0.9), requires_grad=True)\n",
    "\n",
    "epochs = 1000\n",
    "optimizer = torch.optim.Adam([a], lr=0.1)\n",
    "\n",
    "for epoch in range(epochs + 1):\n",
    "    Y_hat = fracF(X, a)\n",
    "    loss = torch.norm(Y - Y_hat)\n",
    "\n",
    "    optimizer.zero_grad()\n",
    "    loss.backward()\n",
    "    optimizer.step()\n",
    "\n",
    "    if epoch % 100 == 0:\n",
    "        print(f\"Epoch [{epoch}/{epochs}], Loss: {loss.item():.4f}\")\n",
    "a"
   ]
  }
 ],
 "metadata": {
  "kernelspec": {
   "display_name": ".venv",
   "language": "python",
   "name": "python3"
  },
  "language_info": {
   "codemirror_mode": {
    "name": "ipython",
    "version": 3
   },
   "file_extension": ".py",
   "mimetype": "text/x-python",
   "name": "python",
   "nbconvert_exporter": "python",
   "pygments_lexer": "ipython3",
   "version": "3.11.4"
  },
  "orig_nbformat": 4
 },
 "nbformat": 4,
 "nbformat_minor": 2
}
